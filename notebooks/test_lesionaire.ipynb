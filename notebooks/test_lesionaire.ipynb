{
 "cells": [
  {
   "cell_type": "code",
   "execution_count": 1,
   "id": "a7e525d5",
   "metadata": {},
   "outputs": [],
   "source": [
    "import numpy as np\n",
    "import pandas as pd\n",
    "import glob\n",
    "from lesionaire.lesionaire import lesions\n",
    "from lesionaire.lesionaire import measure_lesions\n",
    "\n",
    "import seaborn as sns\n",
    "import matplotlib.pyplot as plt\n",
    "import os\n",
    "import re\n",
    "import matplotlib.pyplot as plt\n",
    "import alphashape\n",
    "from descartes import PolygonPatch\n",
    "from shapely.geometry import MultiPolygon, Point, Polygon\n",
    "import numpy as np\n",
    "\n",
    "%load_ext autoreload\n",
    "%autoreload 2"
   ]
  },
  {
   "cell_type": "code",
   "execution_count": 4,
   "id": "5d9a8e59",
   "metadata": {},
   "outputs": [],
   "source": [
    "def alphashape_area(points, \n",
    "                    x_coord_id = 'Centroid X µm', \n",
    "                    y_coord_id = 'Centroid Y µm', \n",
    "                    alphashape_param = 0.03):\n",
    "    '''\n",
    "    Function to calculate the area of a set of points with the alpha shape algorithm.\n",
    "    '''\n",
    "\n",
    "     # create alphashape:\n",
    "    print('Calculating alphashape...')\n",
    "    alpha_shape = alphashape.alphashape(points, alphashape_param)\n",
    "    area = alpha_shape.area\n",
    "    print('Done.')\n",
    "    return area\n"
   ]
  },
  {
   "cell_type": "code",
   "execution_count": 5,
   "id": "bd4a1107",
   "metadata": {
    "collapsed": true
   },
   "outputs": [
    {
     "name": "stdout",
     "output_type": "stream",
     "text": [
      "n_cells =  44\n"
     ]
    },
    {
     "name": "stderr",
     "output_type": "stream",
     "text": [
      "/Users/zagorum/anaconda3/lib/python3.11/site-packages/descartes/patch.py:46: ShapelyDeprecationWarning: Iteration over multi-part geometries is deprecated and will be removed in Shapely 2.0. Use the `geoms` property to access the constituent parts of a multi-part geometry.\n",
      "  polygon = [Polygon(p) for p in polygon]\n",
      "/Users/zagorum/anaconda3/lib/python3.11/site-packages/descartes/patch.py:62: ShapelyDeprecationWarning: The array interface is deprecated and will no longer work in Shapely 2.0. Convert the '.coords' to a numpy array instead.\n",
      "  vertices = concatenate([\n"
     ]
    },
    {
     "name": "stdout",
     "output_type": "stream",
     "text": [
      "Calculating alphashape...\n",
      "Done.\n",
      "n_cells =  9510\n"
     ]
    },
    {
     "name": "stderr",
     "output_type": "stream",
     "text": [
      "/Users/zagorum/anaconda3/lib/python3.11/site-packages/descartes/patch.py:46: ShapelyDeprecationWarning: Iteration over multi-part geometries is deprecated and will be removed in Shapely 2.0. Use the `geoms` property to access the constituent parts of a multi-part geometry.\n",
      "  polygon = [Polygon(p) for p in polygon]\n",
      "/Users/zagorum/anaconda3/lib/python3.11/site-packages/descartes/patch.py:62: ShapelyDeprecationWarning: The array interface is deprecated and will no longer work in Shapely 2.0. Convert the '.coords' to a numpy array instead.\n",
      "  vertices = concatenate([\n"
     ]
    },
    {
     "name": "stdout",
     "output_type": "stream",
     "text": [
      "Calculating alphashape...\n",
      "Done.\n",
      "n_cells =  716\n"
     ]
    },
    {
     "name": "stderr",
     "output_type": "stream",
     "text": [
      "/Users/zagorum/anaconda3/lib/python3.11/site-packages/descartes/patch.py:46: ShapelyDeprecationWarning: Iteration over multi-part geometries is deprecated and will be removed in Shapely 2.0. Use the `geoms` property to access the constituent parts of a multi-part geometry.\n",
      "  polygon = [Polygon(p) for p in polygon]\n",
      "/Users/zagorum/anaconda3/lib/python3.11/site-packages/descartes/patch.py:62: ShapelyDeprecationWarning: The array interface is deprecated and will no longer work in Shapely 2.0. Convert the '.coords' to a numpy array instead.\n",
      "  vertices = concatenate([\n"
     ]
    },
    {
     "name": "stdout",
     "output_type": "stream",
     "text": [
      "Calculating alphashape...\n",
      "Done.\n",
      "n_cells =  301\n"
     ]
    },
    {
     "name": "stderr",
     "output_type": "stream",
     "text": [
      "/Users/zagorum/anaconda3/lib/python3.11/site-packages/descartes/patch.py:46: ShapelyDeprecationWarning: Iteration over multi-part geometries is deprecated and will be removed in Shapely 2.0. Use the `geoms` property to access the constituent parts of a multi-part geometry.\n",
      "  polygon = [Polygon(p) for p in polygon]\n",
      "/Users/zagorum/anaconda3/lib/python3.11/site-packages/descartes/patch.py:62: ShapelyDeprecationWarning: The array interface is deprecated and will no longer work in Shapely 2.0. Convert the '.coords' to a numpy array instead.\n",
      "  vertices = concatenate([\n"
     ]
    },
    {
     "name": "stdout",
     "output_type": "stream",
     "text": [
      "Calculating alphashape...\n",
      "Done.\n",
      "n_cells =  7853\n"
     ]
    },
    {
     "name": "stderr",
     "output_type": "stream",
     "text": [
      "/Users/zagorum/anaconda3/lib/python3.11/site-packages/descartes/patch.py:46: ShapelyDeprecationWarning: Iteration over multi-part geometries is deprecated and will be removed in Shapely 2.0. Use the `geoms` property to access the constituent parts of a multi-part geometry.\n",
      "  polygon = [Polygon(p) for p in polygon]\n",
      "/Users/zagorum/anaconda3/lib/python3.11/site-packages/descartes/patch.py:62: ShapelyDeprecationWarning: The array interface is deprecated and will no longer work in Shapely 2.0. Convert the '.coords' to a numpy array instead.\n",
      "  vertices = concatenate([\n"
     ]
    },
    {
     "name": "stdout",
     "output_type": "stream",
     "text": [
      "Calculating alphashape...\n",
      "Done.\n",
      "n_cells =  38\n"
     ]
    },
    {
     "name": "stderr",
     "output_type": "stream",
     "text": [
      "/Users/zagorum/anaconda3/lib/python3.11/site-packages/descartes/patch.py:46: ShapelyDeprecationWarning: Iteration over multi-part geometries is deprecated and will be removed in Shapely 2.0. Use the `geoms` property to access the constituent parts of a multi-part geometry.\n",
      "  polygon = [Polygon(p) for p in polygon]\n",
      "/Users/zagorum/anaconda3/lib/python3.11/site-packages/descartes/patch.py:62: ShapelyDeprecationWarning: The array interface is deprecated and will no longer work in Shapely 2.0. Convert the '.coords' to a numpy array instead.\n",
      "  vertices = concatenate([\n"
     ]
    },
    {
     "name": "stdout",
     "output_type": "stream",
     "text": [
      "Calculating alphashape...\n",
      "Done.\n",
      "n_cells =  582\n"
     ]
    },
    {
     "name": "stderr",
     "output_type": "stream",
     "text": [
      "/Users/zagorum/anaconda3/lib/python3.11/site-packages/descartes/patch.py:46: ShapelyDeprecationWarning: Iteration over multi-part geometries is deprecated and will be removed in Shapely 2.0. Use the `geoms` property to access the constituent parts of a multi-part geometry.\n",
      "  polygon = [Polygon(p) for p in polygon]\n",
      "/Users/zagorum/anaconda3/lib/python3.11/site-packages/descartes/patch.py:62: ShapelyDeprecationWarning: The array interface is deprecated and will no longer work in Shapely 2.0. Convert the '.coords' to a numpy array instead.\n",
      "  vertices = concatenate([\n"
     ]
    },
    {
     "name": "stdout",
     "output_type": "stream",
     "text": [
      "Calculating alphashape...\n",
      "Done.\n",
      "n_cells =  15789\n"
     ]
    },
    {
     "name": "stderr",
     "output_type": "stream",
     "text": [
      "/Users/zagorum/anaconda3/lib/python3.11/site-packages/descartes/patch.py:46: ShapelyDeprecationWarning: Iteration over multi-part geometries is deprecated and will be removed in Shapely 2.0. Use the `geoms` property to access the constituent parts of a multi-part geometry.\n",
      "  polygon = [Polygon(p) for p in polygon]\n",
      "/Users/zagorum/anaconda3/lib/python3.11/site-packages/descartes/patch.py:62: ShapelyDeprecationWarning: The array interface is deprecated and will no longer work in Shapely 2.0. Convert the '.coords' to a numpy array instead.\n",
      "  vertices = concatenate([\n"
     ]
    },
    {
     "name": "stdout",
     "output_type": "stream",
     "text": [
      "Calculating alphashape...\n",
      "Done.\n",
      "n_cells =  8265\n"
     ]
    },
    {
     "name": "stderr",
     "output_type": "stream",
     "text": [
      "/Users/zagorum/anaconda3/lib/python3.11/site-packages/descartes/patch.py:46: ShapelyDeprecationWarning: Iteration over multi-part geometries is deprecated and will be removed in Shapely 2.0. Use the `geoms` property to access the constituent parts of a multi-part geometry.\n",
      "  polygon = [Polygon(p) for p in polygon]\n",
      "/Users/zagorum/anaconda3/lib/python3.11/site-packages/descartes/patch.py:62: ShapelyDeprecationWarning: The array interface is deprecated and will no longer work in Shapely 2.0. Convert the '.coords' to a numpy array instead.\n",
      "  vertices = concatenate([\n"
     ]
    },
    {
     "name": "stdout",
     "output_type": "stream",
     "text": [
      "Calculating alphashape...\n",
      "Done.\n",
      "n_cells =  11368\n"
     ]
    },
    {
     "name": "stderr",
     "output_type": "stream",
     "text": [
      "/Users/zagorum/anaconda3/lib/python3.11/site-packages/descartes/patch.py:46: ShapelyDeprecationWarning: Iteration over multi-part geometries is deprecated and will be removed in Shapely 2.0. Use the `geoms` property to access the constituent parts of a multi-part geometry.\n",
      "  polygon = [Polygon(p) for p in polygon]\n",
      "/Users/zagorum/anaconda3/lib/python3.11/site-packages/descartes/patch.py:62: ShapelyDeprecationWarning: The array interface is deprecated and will no longer work in Shapely 2.0. Convert the '.coords' to a numpy array instead.\n",
      "  vertices = concatenate([\n"
     ]
    },
    {
     "name": "stdout",
     "output_type": "stream",
     "text": [
      "Calculating alphashape...\n",
      "Done.\n",
      "n_cells =  624\n"
     ]
    },
    {
     "name": "stderr",
     "output_type": "stream",
     "text": [
      "/Users/zagorum/anaconda3/lib/python3.11/site-packages/descartes/patch.py:46: ShapelyDeprecationWarning: Iteration over multi-part geometries is deprecated and will be removed in Shapely 2.0. Use the `geoms` property to access the constituent parts of a multi-part geometry.\n",
      "  polygon = [Polygon(p) for p in polygon]\n",
      "/Users/zagorum/anaconda3/lib/python3.11/site-packages/descartes/patch.py:62: ShapelyDeprecationWarning: The array interface is deprecated and will no longer work in Shapely 2.0. Convert the '.coords' to a numpy array instead.\n",
      "  vertices = concatenate([\n"
     ]
    },
    {
     "name": "stdout",
     "output_type": "stream",
     "text": [
      "Calculating alphashape...\n",
      "Done.\n",
      "n_cells =  2919\n"
     ]
    },
    {
     "name": "stderr",
     "output_type": "stream",
     "text": [
      "/Users/zagorum/anaconda3/lib/python3.11/site-packages/descartes/patch.py:46: ShapelyDeprecationWarning: Iteration over multi-part geometries is deprecated and will be removed in Shapely 2.0. Use the `geoms` property to access the constituent parts of a multi-part geometry.\n",
      "  polygon = [Polygon(p) for p in polygon]\n",
      "/Users/zagorum/anaconda3/lib/python3.11/site-packages/descartes/patch.py:62: ShapelyDeprecationWarning: The array interface is deprecated and will no longer work in Shapely 2.0. Convert the '.coords' to a numpy array instead.\n",
      "  vertices = concatenate([\n"
     ]
    },
    {
     "name": "stdout",
     "output_type": "stream",
     "text": [
      "Calculating alphashape...\n",
      "Done.\n",
      "n_cells =  1633\n"
     ]
    },
    {
     "name": "stderr",
     "output_type": "stream",
     "text": [
      "/Users/zagorum/anaconda3/lib/python3.11/site-packages/descartes/patch.py:46: ShapelyDeprecationWarning: Iteration over multi-part geometries is deprecated and will be removed in Shapely 2.0. Use the `geoms` property to access the constituent parts of a multi-part geometry.\n",
      "  polygon = [Polygon(p) for p in polygon]\n",
      "/Users/zagorum/anaconda3/lib/python3.11/site-packages/descartes/patch.py:62: ShapelyDeprecationWarning: The array interface is deprecated and will no longer work in Shapely 2.0. Convert the '.coords' to a numpy array instead.\n",
      "  vertices = concatenate([\n"
     ]
    },
    {
     "name": "stdout",
     "output_type": "stream",
     "text": [
      "Calculating alphashape...\n",
      "Done.\n",
      "n_cells =  94\n"
     ]
    },
    {
     "name": "stderr",
     "output_type": "stream",
     "text": [
      "/Users/zagorum/anaconda3/lib/python3.11/site-packages/descartes/patch.py:46: ShapelyDeprecationWarning: Iteration over multi-part geometries is deprecated and will be removed in Shapely 2.0. Use the `geoms` property to access the constituent parts of a multi-part geometry.\n",
      "  polygon = [Polygon(p) for p in polygon]\n",
      "/Users/zagorum/anaconda3/lib/python3.11/site-packages/descartes/patch.py:62: ShapelyDeprecationWarning: The array interface is deprecated and will no longer work in Shapely 2.0. Convert the '.coords' to a numpy array instead.\n",
      "  vertices = concatenate([\n"
     ]
    },
    {
     "name": "stdout",
     "output_type": "stream",
     "text": [
      "Calculating alphashape...\n",
      "Done.\n",
      "n_cells =  5\n"
     ]
    },
    {
     "name": "stderr",
     "output_type": "stream",
     "text": [
      "/Users/zagorum/anaconda3/lib/python3.11/site-packages/descartes/patch.py:46: ShapelyDeprecationWarning: Iteration over multi-part geometries is deprecated and will be removed in Shapely 2.0. Use the `geoms` property to access the constituent parts of a multi-part geometry.\n",
      "  polygon = [Polygon(p) for p in polygon]\n",
      "/Users/zagorum/anaconda3/lib/python3.11/site-packages/descartes/patch.py:62: ShapelyDeprecationWarning: The array interface is deprecated and will no longer work in Shapely 2.0. Convert the '.coords' to a numpy array instead.\n",
      "  vertices = concatenate([\n"
     ]
    },
    {
     "name": "stdout",
     "output_type": "stream",
     "text": [
      "Calculating alphashape...\n",
      "Done.\n",
      "n_cells =  1709\n"
     ]
    },
    {
     "name": "stderr",
     "output_type": "stream",
     "text": [
      "/Users/zagorum/anaconda3/lib/python3.11/site-packages/descartes/patch.py:46: ShapelyDeprecationWarning: Iteration over multi-part geometries is deprecated and will be removed in Shapely 2.0. Use the `geoms` property to access the constituent parts of a multi-part geometry.\n",
      "  polygon = [Polygon(p) for p in polygon]\n",
      "/Users/zagorum/anaconda3/lib/python3.11/site-packages/descartes/patch.py:62: ShapelyDeprecationWarning: The array interface is deprecated and will no longer work in Shapely 2.0. Convert the '.coords' to a numpy array instead.\n",
      "  vertices = concatenate([\n"
     ]
    },
    {
     "name": "stdout",
     "output_type": "stream",
     "text": [
      "Calculating alphashape...\n",
      "Done.\n",
      "n_cells =  3882\n"
     ]
    },
    {
     "name": "stderr",
     "output_type": "stream",
     "text": [
      "/Users/zagorum/anaconda3/lib/python3.11/site-packages/descartes/patch.py:46: ShapelyDeprecationWarning: Iteration over multi-part geometries is deprecated and will be removed in Shapely 2.0. Use the `geoms` property to access the constituent parts of a multi-part geometry.\n",
      "  polygon = [Polygon(p) for p in polygon]\n",
      "/Users/zagorum/anaconda3/lib/python3.11/site-packages/descartes/patch.py:62: ShapelyDeprecationWarning: The array interface is deprecated and will no longer work in Shapely 2.0. Convert the '.coords' to a numpy array instead.\n",
      "  vertices = concatenate([\n"
     ]
    },
    {
     "name": "stdout",
     "output_type": "stream",
     "text": [
      "Calculating alphashape...\n",
      "Done.\n",
      "n_cells =  2312\n"
     ]
    },
    {
     "name": "stderr",
     "output_type": "stream",
     "text": [
      "/Users/zagorum/anaconda3/lib/python3.11/site-packages/descartes/patch.py:46: ShapelyDeprecationWarning: Iteration over multi-part geometries is deprecated and will be removed in Shapely 2.0. Use the `geoms` property to access the constituent parts of a multi-part geometry.\n",
      "  polygon = [Polygon(p) for p in polygon]\n",
      "/Users/zagorum/anaconda3/lib/python3.11/site-packages/descartes/patch.py:62: ShapelyDeprecationWarning: The array interface is deprecated and will no longer work in Shapely 2.0. Convert the '.coords' to a numpy array instead.\n",
      "  vertices = concatenate([\n"
     ]
    },
    {
     "name": "stdout",
     "output_type": "stream",
     "text": [
      "Calculating alphashape...\n",
      "Done.\n",
      "n_cells =  4340\n"
     ]
    },
    {
     "name": "stderr",
     "output_type": "stream",
     "text": [
      "/Users/zagorum/anaconda3/lib/python3.11/site-packages/descartes/patch.py:46: ShapelyDeprecationWarning: Iteration over multi-part geometries is deprecated and will be removed in Shapely 2.0. Use the `geoms` property to access the constituent parts of a multi-part geometry.\n",
      "  polygon = [Polygon(p) for p in polygon]\n",
      "/Users/zagorum/anaconda3/lib/python3.11/site-packages/descartes/patch.py:62: ShapelyDeprecationWarning: The array interface is deprecated and will no longer work in Shapely 2.0. Convert the '.coords' to a numpy array instead.\n",
      "  vertices = concatenate([\n"
     ]
    },
    {
     "name": "stdout",
     "output_type": "stream",
     "text": [
      "Calculating alphashape...\n",
      "Done.\n",
      "n_cells =  766\n"
     ]
    },
    {
     "name": "stderr",
     "output_type": "stream",
     "text": [
      "/Users/zagorum/anaconda3/lib/python3.11/site-packages/descartes/patch.py:46: ShapelyDeprecationWarning: Iteration over multi-part geometries is deprecated and will be removed in Shapely 2.0. Use the `geoms` property to access the constituent parts of a multi-part geometry.\n",
      "  polygon = [Polygon(p) for p in polygon]\n",
      "/Users/zagorum/anaconda3/lib/python3.11/site-packages/descartes/patch.py:62: ShapelyDeprecationWarning: The array interface is deprecated and will no longer work in Shapely 2.0. Convert the '.coords' to a numpy array instead.\n",
      "  vertices = concatenate([\n"
     ]
    },
    {
     "name": "stdout",
     "output_type": "stream",
     "text": [
      "Calculating alphashape...\n",
      "Done.\n",
      "n_cells =  91\n"
     ]
    },
    {
     "name": "stderr",
     "output_type": "stream",
     "text": [
      "/Users/zagorum/anaconda3/lib/python3.11/site-packages/descartes/patch.py:46: ShapelyDeprecationWarning: Iteration over multi-part geometries is deprecated and will be removed in Shapely 2.0. Use the `geoms` property to access the constituent parts of a multi-part geometry.\n",
      "  polygon = [Polygon(p) for p in polygon]\n",
      "/Users/zagorum/anaconda3/lib/python3.11/site-packages/descartes/patch.py:62: ShapelyDeprecationWarning: The array interface is deprecated and will no longer work in Shapely 2.0. Convert the '.coords' to a numpy array instead.\n",
      "  vertices = concatenate([\n"
     ]
    },
    {
     "name": "stdout",
     "output_type": "stream",
     "text": [
      "Calculating alphashape...\n",
      "Done.\n",
      "n_cells =  132\n"
     ]
    },
    {
     "name": "stderr",
     "output_type": "stream",
     "text": [
      "/Users/zagorum/anaconda3/lib/python3.11/site-packages/descartes/patch.py:46: ShapelyDeprecationWarning: Iteration over multi-part geometries is deprecated and will be removed in Shapely 2.0. Use the `geoms` property to access the constituent parts of a multi-part geometry.\n",
      "  polygon = [Polygon(p) for p in polygon]\n",
      "/Users/zagorum/anaconda3/lib/python3.11/site-packages/descartes/patch.py:62: ShapelyDeprecationWarning: The array interface is deprecated and will no longer work in Shapely 2.0. Convert the '.coords' to a numpy array instead.\n",
      "  vertices = concatenate([\n"
     ]
    },
    {
     "name": "stdout",
     "output_type": "stream",
     "text": [
      "Calculating alphashape...\n",
      "Done.\n",
      "n_cells =  953\n"
     ]
    },
    {
     "name": "stderr",
     "output_type": "stream",
     "text": [
      "/Users/zagorum/anaconda3/lib/python3.11/site-packages/descartes/patch.py:46: ShapelyDeprecationWarning: Iteration over multi-part geometries is deprecated and will be removed in Shapely 2.0. Use the `geoms` property to access the constituent parts of a multi-part geometry.\n",
      "  polygon = [Polygon(p) for p in polygon]\n",
      "/Users/zagorum/anaconda3/lib/python3.11/site-packages/descartes/patch.py:62: ShapelyDeprecationWarning: The array interface is deprecated and will no longer work in Shapely 2.0. Convert the '.coords' to a numpy array instead.\n",
      "  vertices = concatenate([\n"
     ]
    },
    {
     "name": "stdout",
     "output_type": "stream",
     "text": [
      "Calculating alphashape...\n",
      "Done.\n",
      "n_cells =  4634\n"
     ]
    },
    {
     "name": "stderr",
     "output_type": "stream",
     "text": [
      "/Users/zagorum/anaconda3/lib/python3.11/site-packages/descartes/patch.py:46: ShapelyDeprecationWarning: Iteration over multi-part geometries is deprecated and will be removed in Shapely 2.0. Use the `geoms` property to access the constituent parts of a multi-part geometry.\n",
      "  polygon = [Polygon(p) for p in polygon]\n",
      "/Users/zagorum/anaconda3/lib/python3.11/site-packages/descartes/patch.py:62: ShapelyDeprecationWarning: The array interface is deprecated and will no longer work in Shapely 2.0. Convert the '.coords' to a numpy array instead.\n",
      "  vertices = concatenate([\n"
     ]
    },
    {
     "name": "stdout",
     "output_type": "stream",
     "text": [
      "Calculating alphashape...\n",
      "Done.\n",
      "n_cells =  2361\n"
     ]
    },
    {
     "name": "stderr",
     "output_type": "stream",
     "text": [
      "/Users/zagorum/anaconda3/lib/python3.11/site-packages/descartes/patch.py:46: ShapelyDeprecationWarning: Iteration over multi-part geometries is deprecated and will be removed in Shapely 2.0. Use the `geoms` property to access the constituent parts of a multi-part geometry.\n",
      "  polygon = [Polygon(p) for p in polygon]\n",
      "/Users/zagorum/anaconda3/lib/python3.11/site-packages/descartes/patch.py:62: ShapelyDeprecationWarning: The array interface is deprecated and will no longer work in Shapely 2.0. Convert the '.coords' to a numpy array instead.\n",
      "  vertices = concatenate([\n"
     ]
    },
    {
     "name": "stdout",
     "output_type": "stream",
     "text": [
      "Calculating alphashape...\n",
      "Done.\n",
      "n_cells =  6382\n"
     ]
    },
    {
     "name": "stderr",
     "output_type": "stream",
     "text": [
      "/Users/zagorum/anaconda3/lib/python3.11/site-packages/descartes/patch.py:46: ShapelyDeprecationWarning: Iteration over multi-part geometries is deprecated and will be removed in Shapely 2.0. Use the `geoms` property to access the constituent parts of a multi-part geometry.\n",
      "  polygon = [Polygon(p) for p in polygon]\n",
      "/Users/zagorum/anaconda3/lib/python3.11/site-packages/descartes/patch.py:62: ShapelyDeprecationWarning: The array interface is deprecated and will no longer work in Shapely 2.0. Convert the '.coords' to a numpy array instead.\n",
      "  vertices = concatenate([\n"
     ]
    },
    {
     "name": "stdout",
     "output_type": "stream",
     "text": [
      "Calculating alphashape...\n",
      "Done.\n",
      "n_cells =  2607\n"
     ]
    },
    {
     "name": "stderr",
     "output_type": "stream",
     "text": [
      "/Users/zagorum/anaconda3/lib/python3.11/site-packages/descartes/patch.py:46: ShapelyDeprecationWarning: Iteration over multi-part geometries is deprecated and will be removed in Shapely 2.0. Use the `geoms` property to access the constituent parts of a multi-part geometry.\n",
      "  polygon = [Polygon(p) for p in polygon]\n",
      "/Users/zagorum/anaconda3/lib/python3.11/site-packages/descartes/patch.py:62: ShapelyDeprecationWarning: The array interface is deprecated and will no longer work in Shapely 2.0. Convert the '.coords' to a numpy array instead.\n",
      "  vertices = concatenate([\n"
     ]
    },
    {
     "name": "stdout",
     "output_type": "stream",
     "text": [
      "Calculating alphashape...\n",
      "Done.\n",
      "n_cells =  28\n"
     ]
    },
    {
     "name": "stderr",
     "output_type": "stream",
     "text": [
      "/Users/zagorum/anaconda3/lib/python3.11/site-packages/descartes/patch.py:46: ShapelyDeprecationWarning: Iteration over multi-part geometries is deprecated and will be removed in Shapely 2.0. Use the `geoms` property to access the constituent parts of a multi-part geometry.\n",
      "  polygon = [Polygon(p) for p in polygon]\n",
      "/Users/zagorum/anaconda3/lib/python3.11/site-packages/descartes/patch.py:62: ShapelyDeprecationWarning: The array interface is deprecated and will no longer work in Shapely 2.0. Convert the '.coords' to a numpy array instead.\n",
      "  vertices = concatenate([\n"
     ]
    },
    {
     "name": "stdout",
     "output_type": "stream",
     "text": [
      "Calculating alphashape...\n",
      "Done.\n"
     ]
    }
   ],
   "source": [
    "datalist = glob.glob('/Users/zagorum/Desktop/EHP-analysis/MZMF001_EHP931_22_20231005/MZMF001_lesion-analysis_20231005/measurements/*.txt')\n",
    "\n",
    "x_coord_id = 'Centroid X µm'\n",
    "y_coord_id = 'Centroid Y µm'\n",
    "\n",
    "all_clusters = []\n",
    "lobe_areas = []\n",
    "for f in datalist:\n",
    "    # loop threough all files\n",
    "    data = pd.read_csv(f, sep='\\t')\n",
    "    \n",
    "    sample_name = os.path.split(f)[1].replace('.txt', '')\n",
    "    \n",
    "    clusters = measure_lesions(data = data,\n",
    "                image_id_col = 'Image',\n",
    "                x_id_col = 'Centroid X µm',\n",
    "                y_id_col = 'Centroid Y µm',\n",
    "                clustering_id_col = 'Class',\n",
    "                class_id = 'Positive', \n",
    "                plot=True,\n",
    "                sample_name = sample_name)\n",
    "    \n",
    "    points = data[[x_coord_id, y_coord_id]].values\n",
    "    area = alphashape_area(points)\n",
    "    \n",
    "    clusters['lobe_area'] = area\n",
    "    clusters['total_cell_area'] = data['Cell: Area'].sum()\n",
    "    clusters['total_lesions'] = len(clusters)\n",
    "    clusters['lesions_per_unit_lobe_area'] = (clusters['total_lesions'][0] / clusters['lobe_area'][0]) * 1e6\n",
    "    clusters['lesions_per_unit_cell_area'] = (clusters['total_lesions'][0] / clusters['total_cell_area'][0]) * 1e6\n",
    "    \n",
    "    all_clusters.append(clusters)\n",
    "    \n",
    "\n",
    "#     break\n",
    "    "
   ]
  },
  {
   "cell_type": "code",
   "execution_count": 6,
   "id": "8c54a834",
   "metadata": {},
   "outputs": [],
   "source": [
    "# combine data from all images that have been processed:\n",
    "clustered_data = pd.concat(all_clusters)\n",
    "clustered_data.sort_values(by='Image', inplace=True)\n",
    "clustered_data.to_csv('measured_lesions_with_areas.csv', index=False)"
   ]
  },
  {
   "cell_type": "code",
   "execution_count": 7,
   "id": "867a12d2",
   "metadata": {},
   "outputs": [],
   "source": [
    "# calculate summary statistics per image for lesions:\n",
    "summary = clustered_data.groupby(['Image'])[['total_lesions', \n",
    "                                             'lesions_per_unit_lobe_area', \n",
    "                                             'lesions_per_unit_cell_area']].agg(np.mean).reset_index()\n",
    "\n",
    "mean_lesion_size = clustered_data.groupby(['Image'])['cell_count'].mean().reset_index()\n",
    "\n",
    "summary = pd.merge(summary, mean_lesion_size, how='left', on='Image')\n",
    "summary.rename(columns={'cell_count':'mean_cells_per_lesion'}, inplace=True)\n",
    "\n",
    "# save:\n",
    "summary.to_csv('lesion_summary.csv')"
   ]
  },
  {
   "cell_type": "code",
   "execution_count": null,
   "id": "30e67ab5",
   "metadata": {},
   "outputs": [],
   "source": []
  },
  {
   "cell_type": "code",
   "execution_count": null,
   "id": "9cba50c2",
   "metadata": {},
   "outputs": [],
   "source": []
  },
  {
   "cell_type": "code",
   "execution_count": null,
   "id": "70bb05d0",
   "metadata": {},
   "outputs": [],
   "source": []
  },
  {
   "cell_type": "code",
   "execution_count": null,
   "id": "7bddecf5",
   "metadata": {},
   "outputs": [],
   "source": []
  },
  {
   "cell_type": "code",
   "execution_count": 59,
   "id": "a750caea",
   "metadata": {},
   "outputs": [],
   "source": [
    "from lesionaire.plots import plot_clusters_pub_proportional\n",
    "from lesionaire.lesionaire import do_clustering"
   ]
  },
  {
   "cell_type": "code",
   "execution_count": 60,
   "id": "b4805fa5",
   "metadata": {},
   "outputs": [
    {
     "data": {
      "text/html": [
       "<div>\n",
       "<style scoped>\n",
       "    .dataframe tbody tr th:only-of-type {\n",
       "        vertical-align: middle;\n",
       "    }\n",
       "\n",
       "    .dataframe tbody tr th {\n",
       "        vertical-align: top;\n",
       "    }\n",
       "\n",
       "    .dataframe thead th {\n",
       "        text-align: right;\n",
       "    }\n",
       "</style>\n",
       "<table border=\"1\" class=\"dataframe\">\n",
       "  <thead>\n",
       "    <tr style=\"text-align: right;\">\n",
       "      <th></th>\n",
       "      <th>Image</th>\n",
       "      <th>lesion_id</th>\n",
       "      <th>cell_count</th>\n",
       "    </tr>\n",
       "  </thead>\n",
       "  <tbody>\n",
       "    <tr>\n",
       "      <th>0</th>\n",
       "      <td>EHP931_23_15_Scan1.qptiff - resolution #1</td>\n",
       "      <td>0</td>\n",
       "      <td>1</td>\n",
       "    </tr>\n",
       "    <tr>\n",
       "      <th>1</th>\n",
       "      <td>EHP931_23_15_Scan1.qptiff - resolution #1</td>\n",
       "      <td>1</td>\n",
       "      <td>2</td>\n",
       "    </tr>\n",
       "    <tr>\n",
       "      <th>2</th>\n",
       "      <td>EHP931_23_15_Scan1.qptiff - resolution #1</td>\n",
       "      <td>2</td>\n",
       "      <td>1</td>\n",
       "    </tr>\n",
       "    <tr>\n",
       "      <th>3</th>\n",
       "      <td>EHP931_23_15_Scan1.qptiff - resolution #1</td>\n",
       "      <td>3</td>\n",
       "      <td>1</td>\n",
       "    </tr>\n",
       "    <tr>\n",
       "      <th>4</th>\n",
       "      <td>EHP931_23_15_Scan1.qptiff - resolution #1</td>\n",
       "      <td>4</td>\n",
       "      <td>1</td>\n",
       "    </tr>\n",
       "    <tr>\n",
       "      <th>5</th>\n",
       "      <td>EHP931_23_15_Scan1.qptiff - resolution #1</td>\n",
       "      <td>5</td>\n",
       "      <td>32</td>\n",
       "    </tr>\n",
       "    <tr>\n",
       "      <th>6</th>\n",
       "      <td>EHP931_23_15_Scan1.qptiff - resolution #1</td>\n",
       "      <td>6</td>\n",
       "      <td>2</td>\n",
       "    </tr>\n",
       "    <tr>\n",
       "      <th>7</th>\n",
       "      <td>EHP931_23_15_Scan1.qptiff - resolution #1</td>\n",
       "      <td>7</td>\n",
       "      <td>1</td>\n",
       "    </tr>\n",
       "    <tr>\n",
       "      <th>8</th>\n",
       "      <td>EHP931_23_15_Scan1.qptiff - resolution #1</td>\n",
       "      <td>8</td>\n",
       "      <td>2</td>\n",
       "    </tr>\n",
       "    <tr>\n",
       "      <th>9</th>\n",
       "      <td>EHP931_23_15_Scan1.qptiff - resolution #1</td>\n",
       "      <td>9</td>\n",
       "      <td>1</td>\n",
       "    </tr>\n",
       "  </tbody>\n",
       "</table>\n",
       "</div>"
      ],
      "text/plain": [
       "                                       Image  lesion_id  cell_count\n",
       "0  EHP931_23_15_Scan1.qptiff - resolution #1          0           1\n",
       "1  EHP931_23_15_Scan1.qptiff - resolution #1          1           2\n",
       "2  EHP931_23_15_Scan1.qptiff - resolution #1          2           1\n",
       "3  EHP931_23_15_Scan1.qptiff - resolution #1          3           1\n",
       "4  EHP931_23_15_Scan1.qptiff - resolution #1          4           1\n",
       "5  EHP931_23_15_Scan1.qptiff - resolution #1          5          32\n",
       "6  EHP931_23_15_Scan1.qptiff - resolution #1          6           2\n",
       "7  EHP931_23_15_Scan1.qptiff - resolution #1          7           1\n",
       "8  EHP931_23_15_Scan1.qptiff - resolution #1          8           2\n",
       "9  EHP931_23_15_Scan1.qptiff - resolution #1          9           1"
      ]
     },
     "execution_count": 60,
     "metadata": {},
     "output_type": "execute_result"
    }
   ],
   "source": [
    "def make_plot(data):\n",
    "    clusters = do_clustering(data, \n",
    "                             eps_param=35, \n",
    "                            xcoord_ref = 'Centroid X µm',\n",
    "                            ycoord_ref = 'Centroid Y µm')\n",
    "    plot = plot_clusters_pub_proportional(clusters, \n",
    "                                        data, \n",
    "                                        xcoord_ref = 'Centroid X µm',\n",
    "                                        ycoord_ref = 'Centroid Y µm',\n",
    "                                        sample_name = 'test',\n",
    "                                         lesion_id = '')\n",
    "    "
   ]
  },
  {
   "cell_type": "code",
   "execution_count": 33,
   "id": "41190769",
   "metadata": {},
   "outputs": [],
   "source": [
    "clusters['lesions_per_unit_lobe_area'] = (clusters['total_lesions'][0] / clusters['lobe_area'][0]) * 1e6\n",
    "clusters['lesions_per_unit_cell_area'] = (clusters['total_lesions'][0] / clusters['total_cell_area'][0]) * 1e6"
   ]
  },
  {
   "cell_type": "code",
   "execution_count": 37,
   "id": "b93d83b7",
   "metadata": {},
   "outputs": [
    {
     "data": {
      "text/html": [
       "<div>\n",
       "<style scoped>\n",
       "    .dataframe tbody tr th:only-of-type {\n",
       "        vertical-align: middle;\n",
       "    }\n",
       "\n",
       "    .dataframe tbody tr th {\n",
       "        vertical-align: top;\n",
       "    }\n",
       "\n",
       "    .dataframe thead th {\n",
       "        text-align: right;\n",
       "    }\n",
       "</style>\n",
       "<table border=\"1\" class=\"dataframe\">\n",
       "  <thead>\n",
       "    <tr style=\"text-align: right;\">\n",
       "      <th></th>\n",
       "      <th>Image</th>\n",
       "      <th>lesion_id</th>\n",
       "      <th>cell_count</th>\n",
       "      <th>lobe_area</th>\n",
       "      <th>total_cell_area</th>\n",
       "    </tr>\n",
       "  </thead>\n",
       "  <tbody>\n",
       "    <tr>\n",
       "      <th>0</th>\n",
       "      <td>EHP931_23_15_Scan1.qptiff - resolution #1</td>\n",
       "      <td>0</td>\n",
       "      <td>1</td>\n",
       "      <td>1.314827e+08</td>\n",
       "      <td>61343746.75</td>\n",
       "    </tr>\n",
       "    <tr>\n",
       "      <th>1</th>\n",
       "      <td>EHP931_23_15_Scan1.qptiff - resolution #1</td>\n",
       "      <td>1</td>\n",
       "      <td>2</td>\n",
       "      <td>1.314827e+08</td>\n",
       "      <td>61343746.75</td>\n",
       "    </tr>\n",
       "    <tr>\n",
       "      <th>2</th>\n",
       "      <td>EHP931_23_15_Scan1.qptiff - resolution #1</td>\n",
       "      <td>2</td>\n",
       "      <td>1</td>\n",
       "      <td>1.314827e+08</td>\n",
       "      <td>61343746.75</td>\n",
       "    </tr>\n",
       "    <tr>\n",
       "      <th>3</th>\n",
       "      <td>EHP931_23_15_Scan1.qptiff - resolution #1</td>\n",
       "      <td>3</td>\n",
       "      <td>1</td>\n",
       "      <td>1.314827e+08</td>\n",
       "      <td>61343746.75</td>\n",
       "    </tr>\n",
       "    <tr>\n",
       "      <th>4</th>\n",
       "      <td>EHP931_23_15_Scan1.qptiff - resolution #1</td>\n",
       "      <td>4</td>\n",
       "      <td>1</td>\n",
       "      <td>1.314827e+08</td>\n",
       "      <td>61343746.75</td>\n",
       "    </tr>\n",
       "    <tr>\n",
       "      <th>5</th>\n",
       "      <td>EHP931_23_15_Scan1.qptiff - resolution #1</td>\n",
       "      <td>5</td>\n",
       "      <td>32</td>\n",
       "      <td>1.314827e+08</td>\n",
       "      <td>61343746.75</td>\n",
       "    </tr>\n",
       "    <tr>\n",
       "      <th>6</th>\n",
       "      <td>EHP931_23_15_Scan1.qptiff - resolution #1</td>\n",
       "      <td>6</td>\n",
       "      <td>2</td>\n",
       "      <td>1.314827e+08</td>\n",
       "      <td>61343746.75</td>\n",
       "    </tr>\n",
       "    <tr>\n",
       "      <th>7</th>\n",
       "      <td>EHP931_23_15_Scan1.qptiff - resolution #1</td>\n",
       "      <td>7</td>\n",
       "      <td>1</td>\n",
       "      <td>1.314827e+08</td>\n",
       "      <td>61343746.75</td>\n",
       "    </tr>\n",
       "    <tr>\n",
       "      <th>8</th>\n",
       "      <td>EHP931_23_15_Scan1.qptiff - resolution #1</td>\n",
       "      <td>8</td>\n",
       "      <td>2</td>\n",
       "      <td>1.314827e+08</td>\n",
       "      <td>61343746.75</td>\n",
       "    </tr>\n",
       "    <tr>\n",
       "      <th>9</th>\n",
       "      <td>EHP931_23_15_Scan1.qptiff - resolution #1</td>\n",
       "      <td>9</td>\n",
       "      <td>1</td>\n",
       "      <td>1.314827e+08</td>\n",
       "      <td>61343746.75</td>\n",
       "    </tr>\n",
       "  </tbody>\n",
       "</table>\n",
       "</div>"
      ],
      "text/plain": [
       "                                       Image  lesion_id  cell_count  \\\n",
       "0  EHP931_23_15_Scan1.qptiff - resolution #1          0           1   \n",
       "1  EHP931_23_15_Scan1.qptiff - resolution #1          1           2   \n",
       "2  EHP931_23_15_Scan1.qptiff - resolution #1          2           1   \n",
       "3  EHP931_23_15_Scan1.qptiff - resolution #1          3           1   \n",
       "4  EHP931_23_15_Scan1.qptiff - resolution #1          4           1   \n",
       "5  EHP931_23_15_Scan1.qptiff - resolution #1          5          32   \n",
       "6  EHP931_23_15_Scan1.qptiff - resolution #1          6           2   \n",
       "7  EHP931_23_15_Scan1.qptiff - resolution #1          7           1   \n",
       "8  EHP931_23_15_Scan1.qptiff - resolution #1          8           2   \n",
       "9  EHP931_23_15_Scan1.qptiff - resolution #1          9           1   \n",
       "\n",
       "      lobe_area  total_cell_area  \n",
       "0  1.314827e+08      61343746.75  \n",
       "1  1.314827e+08      61343746.75  \n",
       "2  1.314827e+08      61343746.75  \n",
       "3  1.314827e+08      61343746.75  \n",
       "4  1.314827e+08      61343746.75  \n",
       "5  1.314827e+08      61343746.75  \n",
       "6  1.314827e+08      61343746.75  \n",
       "7  1.314827e+08      61343746.75  \n",
       "8  1.314827e+08      61343746.75  \n",
       "9  1.314827e+08      61343746.75  "
      ]
     },
     "execution_count": 37,
     "metadata": {},
     "output_type": "execute_result"
    }
   ],
   "source": [
    "clusters"
   ]
  },
  {
   "cell_type": "code",
   "execution_count": 13,
   "id": "1cbcd2fd",
   "metadata": {},
   "outputs": [
    {
     "data": {
      "text/plain": [
       "131482709.70500001"
      ]
     },
     "execution_count": 13,
     "metadata": {},
     "output_type": "execute_result"
    }
   ],
   "source": []
  },
  {
   "cell_type": "code",
   "execution_count": 61,
   "id": "71c16ce4",
   "metadata": {},
   "outputs": [
    {
     "data": {
      "text/plain": [
       "28"
      ]
     },
     "execution_count": 61,
     "metadata": {},
     "output_type": "execute_result"
    }
   ],
   "source": [
    "len(clustered_data['Image'].unique())"
   ]
  },
  {
   "cell_type": "code",
   "execution_count": 63,
   "id": "a7698faf",
   "metadata": {},
   "outputs": [],
   "source": []
  },
  {
   "cell_type": "code",
   "execution_count": 3,
   "id": "c5f09ee7",
   "metadata": {},
   "outputs": [],
   "source": []
  },
  {
   "cell_type": "code",
   "execution_count": 19,
   "id": "7ca90ce2",
   "metadata": {},
   "outputs": [],
   "source": [
    "my_data = lesions(data = data,\n",
    "                  image_id_col = 'Image',\n",
    "                 x_id_col = 'Centroid X µm',\n",
    "                 y_id_col = 'Centroid Y µm',\n",
    "                 clustering_id_col = 'Class',\n",
    "                 class_id = 'Positive')"
   ]
  },
  {
   "cell_type": "code",
   "execution_count": 20,
   "id": "354e3c2c",
   "metadata": {},
   "outputs": [
    {
     "name": "stdout",
     "output_type": "stream",
     "text": [
      "n_cells =  2312\n"
     ]
    },
    {
     "data": {
      "text/html": [
       "<div>\n",
       "<style scoped>\n",
       "    .dataframe tbody tr th:only-of-type {\n",
       "        vertical-align: middle;\n",
       "    }\n",
       "\n",
       "    .dataframe tbody tr th {\n",
       "        vertical-align: top;\n",
       "    }\n",
       "\n",
       "    .dataframe thead th {\n",
       "        text-align: right;\n",
       "    }\n",
       "</style>\n",
       "<table border=\"1\" class=\"dataframe\">\n",
       "  <thead>\n",
       "    <tr style=\"text-align: right;\">\n",
       "      <th></th>\n",
       "      <th>Image</th>\n",
       "      <th>Object ID</th>\n",
       "      <th>Name</th>\n",
       "      <th>Class</th>\n",
       "      <th>Parent</th>\n",
       "      <th>ROI</th>\n",
       "      <th>Centroid X µm</th>\n",
       "      <th>Centroid Y µm</th>\n",
       "      <th>Nucleus: Area</th>\n",
       "      <th>Nucleus: Perimeter</th>\n",
       "      <th>...</th>\n",
       "      <th>Cytoplasm: Opal 520 max</th>\n",
       "      <th>Cytoplasm: Opal 520 min</th>\n",
       "      <th>Cytoplasm: Sample AF mean</th>\n",
       "      <th>Cytoplasm: Sample AF std dev</th>\n",
       "      <th>Cytoplasm: Sample AF max</th>\n",
       "      <th>Cytoplasm: Sample AF min</th>\n",
       "      <th>Nucleus/Cell area ratio</th>\n",
       "      <th>lesion_id</th>\n",
       "      <th>Cluster ID</th>\n",
       "      <th>Cluster N cells</th>\n",
       "    </tr>\n",
       "  </thead>\n",
       "  <tbody>\n",
       "    <tr>\n",
       "      <th>0</th>\n",
       "      <td>EHP931_23_1_Scan1.qptiff - resolution #1</td>\n",
       "      <td>c1f88baf-dbad-43e8-b15f-b76cf0cf953e</td>\n",
       "      <td>Positive</td>\n",
       "      <td>Positive</td>\n",
       "      <td>PathAnnotationObject</td>\n",
       "      <td>Polygon</td>\n",
       "      <td>4865.9</td>\n",
       "      <td>1828.1</td>\n",
       "      <td>21.50</td>\n",
       "      <td>19.4915</td>\n",
       "      <td>...</td>\n",
       "      <td>19</td>\n",
       "      <td>9</td>\n",
       "      <td>78.7810</td>\n",
       "      <td>8.9875</td>\n",
       "      <td>100</td>\n",
       "      <td>64</td>\n",
       "      <td>0.3893</td>\n",
       "      <td>0</td>\n",
       "      <td>0</td>\n",
       "      <td>36</td>\n",
       "    </tr>\n",
       "    <tr>\n",
       "      <th>1</th>\n",
       "      <td>EHP931_23_1_Scan1.qptiff - resolution #1</td>\n",
       "      <td>3149f443-c109-47b2-8d8a-00817c62b0c0</td>\n",
       "      <td>Positive</td>\n",
       "      <td>Positive</td>\n",
       "      <td>PathAnnotationObject</td>\n",
       "      <td>Polygon</td>\n",
       "      <td>4854.4</td>\n",
       "      <td>1829.8</td>\n",
       "      <td>58.50</td>\n",
       "      <td>35.0603</td>\n",
       "      <td>...</td>\n",
       "      <td>18</td>\n",
       "      <td>8</td>\n",
       "      <td>73.5021</td>\n",
       "      <td>8.5432</td>\n",
       "      <td>97</td>\n",
       "      <td>60</td>\n",
       "      <td>0.4875</td>\n",
       "      <td>0</td>\n",
       "      <td>0</td>\n",
       "      <td>36</td>\n",
       "    </tr>\n",
       "    <tr>\n",
       "      <th>2</th>\n",
       "      <td>EHP931_23_1_Scan1.qptiff - resolution #1</td>\n",
       "      <td>caf8ca19-639b-433e-917b-a2612988469c</td>\n",
       "      <td>Positive</td>\n",
       "      <td>Positive</td>\n",
       "      <td>PathAnnotationObject</td>\n",
       "      <td>Polygon</td>\n",
       "      <td>4876.5</td>\n",
       "      <td>1830.0</td>\n",
       "      <td>27.00</td>\n",
       "      <td>20.8200</td>\n",
       "      <td>...</td>\n",
       "      <td>29</td>\n",
       "      <td>10</td>\n",
       "      <td>84.2746</td>\n",
       "      <td>8.2590</td>\n",
       "      <td>112</td>\n",
       "      <td>67</td>\n",
       "      <td>0.3654</td>\n",
       "      <td>0</td>\n",
       "      <td>0</td>\n",
       "      <td>36</td>\n",
       "    </tr>\n",
       "    <tr>\n",
       "      <th>3</th>\n",
       "      <td>EHP931_23_1_Scan1.qptiff - resolution #1</td>\n",
       "      <td>cb7e58dc-a8ab-4855-bcde-08ca4b871561</td>\n",
       "      <td>Positive</td>\n",
       "      <td>Positive</td>\n",
       "      <td>PathAnnotationObject</td>\n",
       "      <td>Polygon</td>\n",
       "      <td>4871.0</td>\n",
       "      <td>1836.5</td>\n",
       "      <td>42.75</td>\n",
       "      <td>28.9738</td>\n",
       "      <td>...</td>\n",
       "      <td>32</td>\n",
       "      <td>11</td>\n",
       "      <td>87.9561</td>\n",
       "      <td>11.0486</td>\n",
       "      <td>112</td>\n",
       "      <td>62</td>\n",
       "      <td>0.4533</td>\n",
       "      <td>0</td>\n",
       "      <td>0</td>\n",
       "      <td>36</td>\n",
       "    </tr>\n",
       "    <tr>\n",
       "      <th>4</th>\n",
       "      <td>EHP931_23_1_Scan1.qptiff - resolution #1</td>\n",
       "      <td>b3f40387-01ba-473d-b4a0-b00fa7ab1fc3</td>\n",
       "      <td>Positive</td>\n",
       "      <td>Positive</td>\n",
       "      <td>PathAnnotationObject</td>\n",
       "      <td>Polygon</td>\n",
       "      <td>4861.6</td>\n",
       "      <td>1835.6</td>\n",
       "      <td>22.75</td>\n",
       "      <td>18.7420</td>\n",
       "      <td>...</td>\n",
       "      <td>22</td>\n",
       "      <td>11</td>\n",
       "      <td>93.2087</td>\n",
       "      <td>9.0559</td>\n",
       "      <td>115</td>\n",
       "      <td>72</td>\n",
       "      <td>0.4490</td>\n",
       "      <td>0</td>\n",
       "      <td>0</td>\n",
       "      <td>36</td>\n",
       "    </tr>\n",
       "    <tr>\n",
       "      <th>...</th>\n",
       "      <td>...</td>\n",
       "      <td>...</td>\n",
       "      <td>...</td>\n",
       "      <td>...</td>\n",
       "      <td>...</td>\n",
       "      <td>...</td>\n",
       "      <td>...</td>\n",
       "      <td>...</td>\n",
       "      <td>...</td>\n",
       "      <td>...</td>\n",
       "      <td>...</td>\n",
       "      <td>...</td>\n",
       "      <td>...</td>\n",
       "      <td>...</td>\n",
       "      <td>...</td>\n",
       "      <td>...</td>\n",
       "      <td>...</td>\n",
       "      <td>...</td>\n",
       "      <td>...</td>\n",
       "      <td>...</td>\n",
       "      <td>...</td>\n",
       "    </tr>\n",
       "    <tr>\n",
       "      <th>2307</th>\n",
       "      <td>EHP931_23_1_Scan1.qptiff - resolution #1</td>\n",
       "      <td>75b36c20-3a97-4a92-b749-8af101794b9f</td>\n",
       "      <td>Positive</td>\n",
       "      <td>Positive</td>\n",
       "      <td>PathAnnotationObject</td>\n",
       "      <td>Polygon</td>\n",
       "      <td>15492.7</td>\n",
       "      <td>30706.7</td>\n",
       "      <td>29.75</td>\n",
       "      <td>20.6053</td>\n",
       "      <td>...</td>\n",
       "      <td>65</td>\n",
       "      <td>1</td>\n",
       "      <td>72.6357</td>\n",
       "      <td>22.8349</td>\n",
       "      <td>118</td>\n",
       "      <td>40</td>\n",
       "      <td>0.3066</td>\n",
       "      <td>217</td>\n",
       "      <td>217</td>\n",
       "      <td>32</td>\n",
       "    </tr>\n",
       "    <tr>\n",
       "      <th>2308</th>\n",
       "      <td>EHP931_23_1_Scan1.qptiff - resolution #1</td>\n",
       "      <td>9e84ad90-3add-46ac-ae72-a2e7b4fefa32</td>\n",
       "      <td>Positive</td>\n",
       "      <td>Positive</td>\n",
       "      <td>PathAnnotationObject</td>\n",
       "      <td>Polygon</td>\n",
       "      <td>15056.4</td>\n",
       "      <td>31975.0</td>\n",
       "      <td>23.00</td>\n",
       "      <td>19.9827</td>\n",
       "      <td>...</td>\n",
       "      <td>7</td>\n",
       "      <td>0</td>\n",
       "      <td>52.5150</td>\n",
       "      <td>7.6177</td>\n",
       "      <td>81</td>\n",
       "      <td>35</td>\n",
       "      <td>0.1469</td>\n",
       "      <td>218</td>\n",
       "      <td>218</td>\n",
       "      <td>1</td>\n",
       "    </tr>\n",
       "    <tr>\n",
       "      <th>2309</th>\n",
       "      <td>EHP931_23_1_Scan1.qptiff - resolution #1</td>\n",
       "      <td>27703abc-2ec8-4b4c-97f4-3c0ee0010973</td>\n",
       "      <td>Positive</td>\n",
       "      <td>Positive</td>\n",
       "      <td>PathAnnotationObject</td>\n",
       "      <td>Polygon</td>\n",
       "      <td>16498.8</td>\n",
       "      <td>32903.2</td>\n",
       "      <td>22.00</td>\n",
       "      <td>18.0064</td>\n",
       "      <td>...</td>\n",
       "      <td>50</td>\n",
       "      <td>0</td>\n",
       "      <td>51.3703</td>\n",
       "      <td>14.3660</td>\n",
       "      <td>111</td>\n",
       "      <td>35</td>\n",
       "      <td>0.1247</td>\n",
       "      <td>219</td>\n",
       "      <td>219</td>\n",
       "      <td>1</td>\n",
       "    </tr>\n",
       "    <tr>\n",
       "      <th>2310</th>\n",
       "      <td>EHP931_23_1_Scan1.qptiff - resolution #1</td>\n",
       "      <td>f7533087-d6e5-4554-8723-e69f2611f86e</td>\n",
       "      <td>Positive</td>\n",
       "      <td>Positive</td>\n",
       "      <td>PathAnnotationObject</td>\n",
       "      <td>Polygon</td>\n",
       "      <td>16434.6</td>\n",
       "      <td>32944.9</td>\n",
       "      <td>47.75</td>\n",
       "      <td>30.0246</td>\n",
       "      <td>...</td>\n",
       "      <td>9</td>\n",
       "      <td>1</td>\n",
       "      <td>53.2740</td>\n",
       "      <td>8.8665</td>\n",
       "      <td>75</td>\n",
       "      <td>35</td>\n",
       "      <td>0.2686</td>\n",
       "      <td>220</td>\n",
       "      <td>220</td>\n",
       "      <td>2</td>\n",
       "    </tr>\n",
       "    <tr>\n",
       "      <th>2311</th>\n",
       "      <td>EHP931_23_1_Scan1.qptiff - resolution #1</td>\n",
       "      <td>367da5ad-87fe-4a36-8e31-7cd4f050fc02</td>\n",
       "      <td>Positive</td>\n",
       "      <td>Positive</td>\n",
       "      <td>PathAnnotationObject</td>\n",
       "      <td>Polygon</td>\n",
       "      <td>16444.1</td>\n",
       "      <td>32951.8</td>\n",
       "      <td>30.75</td>\n",
       "      <td>20.0888</td>\n",
       "      <td>...</td>\n",
       "      <td>60</td>\n",
       "      <td>2</td>\n",
       "      <td>65.1673</td>\n",
       "      <td>13.3508</td>\n",
       "      <td>103</td>\n",
       "      <td>42</td>\n",
       "      <td>0.3093</td>\n",
       "      <td>220</td>\n",
       "      <td>220</td>\n",
       "      <td>2</td>\n",
       "    </tr>\n",
       "  </tbody>\n",
       "</table>\n",
       "<p>2312 rows × 80 columns</p>\n",
       "</div>"
      ],
      "text/plain": [
       "                                         Image  \\\n",
       "0     EHP931_23_1_Scan1.qptiff - resolution #1   \n",
       "1     EHP931_23_1_Scan1.qptiff - resolution #1   \n",
       "2     EHP931_23_1_Scan1.qptiff - resolution #1   \n",
       "3     EHP931_23_1_Scan1.qptiff - resolution #1   \n",
       "4     EHP931_23_1_Scan1.qptiff - resolution #1   \n",
       "...                                        ...   \n",
       "2307  EHP931_23_1_Scan1.qptiff - resolution #1   \n",
       "2308  EHP931_23_1_Scan1.qptiff - resolution #1   \n",
       "2309  EHP931_23_1_Scan1.qptiff - resolution #1   \n",
       "2310  EHP931_23_1_Scan1.qptiff - resolution #1   \n",
       "2311  EHP931_23_1_Scan1.qptiff - resolution #1   \n",
       "\n",
       "                                 Object ID      Name     Class  \\\n",
       "0     c1f88baf-dbad-43e8-b15f-b76cf0cf953e  Positive  Positive   \n",
       "1     3149f443-c109-47b2-8d8a-00817c62b0c0  Positive  Positive   \n",
       "2     caf8ca19-639b-433e-917b-a2612988469c  Positive  Positive   \n",
       "3     cb7e58dc-a8ab-4855-bcde-08ca4b871561  Positive  Positive   \n",
       "4     b3f40387-01ba-473d-b4a0-b00fa7ab1fc3  Positive  Positive   \n",
       "...                                    ...       ...       ...   \n",
       "2307  75b36c20-3a97-4a92-b749-8af101794b9f  Positive  Positive   \n",
       "2308  9e84ad90-3add-46ac-ae72-a2e7b4fefa32  Positive  Positive   \n",
       "2309  27703abc-2ec8-4b4c-97f4-3c0ee0010973  Positive  Positive   \n",
       "2310  f7533087-d6e5-4554-8723-e69f2611f86e  Positive  Positive   \n",
       "2311  367da5ad-87fe-4a36-8e31-7cd4f050fc02  Positive  Positive   \n",
       "\n",
       "                    Parent      ROI  Centroid X µm  Centroid Y µm  \\\n",
       "0     PathAnnotationObject  Polygon         4865.9         1828.1   \n",
       "1     PathAnnotationObject  Polygon         4854.4         1829.8   \n",
       "2     PathAnnotationObject  Polygon         4876.5         1830.0   \n",
       "3     PathAnnotationObject  Polygon         4871.0         1836.5   \n",
       "4     PathAnnotationObject  Polygon         4861.6         1835.6   \n",
       "...                    ...      ...            ...            ...   \n",
       "2307  PathAnnotationObject  Polygon        15492.7        30706.7   \n",
       "2308  PathAnnotationObject  Polygon        15056.4        31975.0   \n",
       "2309  PathAnnotationObject  Polygon        16498.8        32903.2   \n",
       "2310  PathAnnotationObject  Polygon        16434.6        32944.9   \n",
       "2311  PathAnnotationObject  Polygon        16444.1        32951.8   \n",
       "\n",
       "      Nucleus: Area  Nucleus: Perimeter  ...  Cytoplasm: Opal 520 max  \\\n",
       "0             21.50             19.4915  ...                       19   \n",
       "1             58.50             35.0603  ...                       18   \n",
       "2             27.00             20.8200  ...                       29   \n",
       "3             42.75             28.9738  ...                       32   \n",
       "4             22.75             18.7420  ...                       22   \n",
       "...             ...                 ...  ...                      ...   \n",
       "2307          29.75             20.6053  ...                       65   \n",
       "2308          23.00             19.9827  ...                        7   \n",
       "2309          22.00             18.0064  ...                       50   \n",
       "2310          47.75             30.0246  ...                        9   \n",
       "2311          30.75             20.0888  ...                       60   \n",
       "\n",
       "      Cytoplasm: Opal 520 min  Cytoplasm: Sample AF mean  \\\n",
       "0                           9                    78.7810   \n",
       "1                           8                    73.5021   \n",
       "2                          10                    84.2746   \n",
       "3                          11                    87.9561   \n",
       "4                          11                    93.2087   \n",
       "...                       ...                        ...   \n",
       "2307                        1                    72.6357   \n",
       "2308                        0                    52.5150   \n",
       "2309                        0                    51.3703   \n",
       "2310                        1                    53.2740   \n",
       "2311                        2                    65.1673   \n",
       "\n",
       "      Cytoplasm: Sample AF std dev  Cytoplasm: Sample AF max  \\\n",
       "0                           8.9875                       100   \n",
       "1                           8.5432                        97   \n",
       "2                           8.2590                       112   \n",
       "3                          11.0486                       112   \n",
       "4                           9.0559                       115   \n",
       "...                            ...                       ...   \n",
       "2307                       22.8349                       118   \n",
       "2308                        7.6177                        81   \n",
       "2309                       14.3660                       111   \n",
       "2310                        8.8665                        75   \n",
       "2311                       13.3508                       103   \n",
       "\n",
       "      Cytoplasm: Sample AF min  Nucleus/Cell area ratio  lesion_id  \\\n",
       "0                           64                   0.3893          0   \n",
       "1                           60                   0.4875          0   \n",
       "2                           67                   0.3654          0   \n",
       "3                           62                   0.4533          0   \n",
       "4                           72                   0.4490          0   \n",
       "...                        ...                      ...        ...   \n",
       "2307                        40                   0.3066        217   \n",
       "2308                        35                   0.1469        218   \n",
       "2309                        35                   0.1247        219   \n",
       "2310                        35                   0.2686        220   \n",
       "2311                        42                   0.3093        220   \n",
       "\n",
       "      Cluster ID  Cluster N cells  \n",
       "0              0               36  \n",
       "1              0               36  \n",
       "2              0               36  \n",
       "3              0               36  \n",
       "4              0               36  \n",
       "...          ...              ...  \n",
       "2307         217               32  \n",
       "2308         218                1  \n",
       "2309         219                1  \n",
       "2310         220                2  \n",
       "2311         220                2  \n",
       "\n",
       "[2312 rows x 80 columns]"
      ]
     },
     "execution_count": 20,
     "metadata": {},
     "output_type": "execute_result"
    }
   ],
   "source": [
    "my_data.find_lesions()"
   ]
  },
  {
   "cell_type": "code",
   "execution_count": 17,
   "id": "096750be",
   "metadata": {},
   "outputs": [
    {
     "data": {
      "text/html": [
       "<div>\n",
       "<style scoped>\n",
       "    .dataframe tbody tr th:only-of-type {\n",
       "        vertical-align: middle;\n",
       "    }\n",
       "\n",
       "    .dataframe tbody tr th {\n",
       "        vertical-align: top;\n",
       "    }\n",
       "\n",
       "    .dataframe thead th {\n",
       "        text-align: right;\n",
       "    }\n",
       "</style>\n",
       "<table border=\"1\" class=\"dataframe\">\n",
       "  <thead>\n",
       "    <tr style=\"text-align: right;\">\n",
       "      <th></th>\n",
       "      <th>Image</th>\n",
       "      <th>cell_count_mean</th>\n",
       "      <th>cell_count_std</th>\n",
       "      <th>cell_count_count</th>\n",
       "    </tr>\n",
       "  </thead>\n",
       "  <tbody>\n",
       "    <tr>\n",
       "      <th>0</th>\n",
       "      <td>EHP931_23_1_Scan1.qptiff - resolution #1</td>\n",
       "      <td>10.461538</td>\n",
       "      <td>15.584801</td>\n",
       "      <td>221</td>\n",
       "    </tr>\n",
       "  </tbody>\n",
       "</table>\n",
       "</div>"
      ],
      "text/plain": [
       "                                      Image  cell_count_mean  cell_count_std  \\\n",
       "0  EHP931_23_1_Scan1.qptiff - resolution #1        10.461538       15.584801   \n",
       "\n",
       "   cell_count_count  \n",
       "0               221  "
      ]
     },
     "execution_count": 17,
     "metadata": {},
     "output_type": "execute_result"
    }
   ],
   "source": [
    "my_data.summary()"
   ]
  },
  {
   "cell_type": "code",
   "execution_count": 21,
   "id": "c93376c7",
   "metadata": {},
   "outputs": [
    {
     "ename": "TypeError",
     "evalue": "'lesions' object is not subscriptable",
     "output_type": "error",
     "traceback": [
      "\u001b[0;31m---------------------------------------------------------------------------\u001b[0m",
      "\u001b[0;31mTypeError\u001b[0m                                 Traceback (most recent call last)",
      "Cell \u001b[0;32mIn[21], line 1\u001b[0m\n\u001b[0;32m----> 1\u001b[0m my_data[\u001b[38;5;124m'\u001b[39m\u001b[38;5;124mlesion_id\u001b[39m\u001b[38;5;124m'\u001b[39m]\u001b[38;5;241m.\u001b[39mmax()\n",
      "\u001b[0;31mTypeError\u001b[0m: 'lesions' object is not subscriptable"
     ]
    }
   ],
   "source": [
    "my_data['lesion_id'].max()"
   ]
  },
  {
   "cell_type": "code",
   "execution_count": 22,
   "id": "5ac07fe8",
   "metadata": {},
   "outputs": [],
   "source": []
  },
  {
   "cell_type": "code",
   "execution_count": 26,
   "id": "6214e28e",
   "metadata": {},
   "outputs": [
    {
     "name": "stdout",
     "output_type": "stream",
     "text": [
      "n_cells =  2312\n"
     ]
    }
   ],
   "source": [
    "clusters = measure_lesions(data = data,\n",
    "                  image_id_col = 'Image',\n",
    "                 x_id_col = 'Centroid X µm',\n",
    "                 y_id_col = 'Centroid Y µm',\n",
    "                 clustering_id_col = 'Class',\n",
    "                 class_id = 'Positive')"
   ]
  },
  {
   "cell_type": "code",
   "execution_count": 27,
   "id": "a3147b76",
   "metadata": {},
   "outputs": [
    {
     "data": {
      "text/html": [
       "<div>\n",
       "<style scoped>\n",
       "    .dataframe tbody tr th:only-of-type {\n",
       "        vertical-align: middle;\n",
       "    }\n",
       "\n",
       "    .dataframe tbody tr th {\n",
       "        vertical-align: top;\n",
       "    }\n",
       "\n",
       "    .dataframe thead th {\n",
       "        text-align: right;\n",
       "    }\n",
       "</style>\n",
       "<table border=\"1\" class=\"dataframe\">\n",
       "  <thead>\n",
       "    <tr style=\"text-align: right;\">\n",
       "      <th></th>\n",
       "      <th>Image</th>\n",
       "      <th>lesion_id</th>\n",
       "      <th>cell_count</th>\n",
       "    </tr>\n",
       "  </thead>\n",
       "  <tbody>\n",
       "    <tr>\n",
       "      <th>0</th>\n",
       "      <td>EHP931_23_1_Scan1.qptiff - resolution #1</td>\n",
       "      <td>0</td>\n",
       "      <td>36</td>\n",
       "    </tr>\n",
       "    <tr>\n",
       "      <th>1</th>\n",
       "      <td>EHP931_23_1_Scan1.qptiff - resolution #1</td>\n",
       "      <td>1</td>\n",
       "      <td>2</td>\n",
       "    </tr>\n",
       "    <tr>\n",
       "      <th>2</th>\n",
       "      <td>EHP931_23_1_Scan1.qptiff - resolution #1</td>\n",
       "      <td>2</td>\n",
       "      <td>12</td>\n",
       "    </tr>\n",
       "    <tr>\n",
       "      <th>3</th>\n",
       "      <td>EHP931_23_1_Scan1.qptiff - resolution #1</td>\n",
       "      <td>3</td>\n",
       "      <td>2</td>\n",
       "    </tr>\n",
       "    <tr>\n",
       "      <th>4</th>\n",
       "      <td>EHP931_23_1_Scan1.qptiff - resolution #1</td>\n",
       "      <td>4</td>\n",
       "      <td>7</td>\n",
       "    </tr>\n",
       "    <tr>\n",
       "      <th>...</th>\n",
       "      <td>...</td>\n",
       "      <td>...</td>\n",
       "      <td>...</td>\n",
       "    </tr>\n",
       "    <tr>\n",
       "      <th>216</th>\n",
       "      <td>EHP931_23_1_Scan1.qptiff - resolution #1</td>\n",
       "      <td>216</td>\n",
       "      <td>1</td>\n",
       "    </tr>\n",
       "    <tr>\n",
       "      <th>217</th>\n",
       "      <td>EHP931_23_1_Scan1.qptiff - resolution #1</td>\n",
       "      <td>217</td>\n",
       "      <td>32</td>\n",
       "    </tr>\n",
       "    <tr>\n",
       "      <th>218</th>\n",
       "      <td>EHP931_23_1_Scan1.qptiff - resolution #1</td>\n",
       "      <td>218</td>\n",
       "      <td>1</td>\n",
       "    </tr>\n",
       "    <tr>\n",
       "      <th>219</th>\n",
       "      <td>EHP931_23_1_Scan1.qptiff - resolution #1</td>\n",
       "      <td>219</td>\n",
       "      <td>1</td>\n",
       "    </tr>\n",
       "    <tr>\n",
       "      <th>220</th>\n",
       "      <td>EHP931_23_1_Scan1.qptiff - resolution #1</td>\n",
       "      <td>220</td>\n",
       "      <td>2</td>\n",
       "    </tr>\n",
       "  </tbody>\n",
       "</table>\n",
       "<p>221 rows × 3 columns</p>\n",
       "</div>"
      ],
      "text/plain": [
       "                                        Image  lesion_id  cell_count\n",
       "0    EHP931_23_1_Scan1.qptiff - resolution #1          0          36\n",
       "1    EHP931_23_1_Scan1.qptiff - resolution #1          1           2\n",
       "2    EHP931_23_1_Scan1.qptiff - resolution #1          2          12\n",
       "3    EHP931_23_1_Scan1.qptiff - resolution #1          3           2\n",
       "4    EHP931_23_1_Scan1.qptiff - resolution #1          4           7\n",
       "..                                        ...        ...         ...\n",
       "216  EHP931_23_1_Scan1.qptiff - resolution #1        216           1\n",
       "217  EHP931_23_1_Scan1.qptiff - resolution #1        217          32\n",
       "218  EHP931_23_1_Scan1.qptiff - resolution #1        218           1\n",
       "219  EHP931_23_1_Scan1.qptiff - resolution #1        219           1\n",
       "220  EHP931_23_1_Scan1.qptiff - resolution #1        220           2\n",
       "\n",
       "[221 rows x 3 columns]"
      ]
     },
     "execution_count": 27,
     "metadata": {},
     "output_type": "execute_result"
    }
   ],
   "source": [
    "clusters"
   ]
  },
  {
   "cell_type": "code",
   "execution_count": null,
   "id": "9437f52d",
   "metadata": {},
   "outputs": [],
   "source": []
  }
 ],
 "metadata": {
  "kernelspec": {
   "display_name": "Python 3 (ipykernel)",
   "language": "python",
   "name": "python3"
  },
  "language_info": {
   "codemirror_mode": {
    "name": "ipython",
    "version": 3
   },
   "file_extension": ".py",
   "mimetype": "text/x-python",
   "name": "python",
   "nbconvert_exporter": "python",
   "pygments_lexer": "ipython3",
   "version": "3.11.5"
  }
 },
 "nbformat": 4,
 "nbformat_minor": 5
}
